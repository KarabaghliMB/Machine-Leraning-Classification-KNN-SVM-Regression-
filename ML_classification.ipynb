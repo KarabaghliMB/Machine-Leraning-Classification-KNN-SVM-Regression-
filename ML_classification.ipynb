{
  "nbformat": 4,
  "nbformat_minor": 0,
  "metadata": {
    "colab": {
      "name": "FD_FInal.ipynb",
      "provenance": [],
      "collapsed_sections": []
    },
    "kernelspec": {
      "display_name": "Python 3",
      "name": "python3"
    }
  },
  "cells": [
    {
      "cell_type": "code",
      "metadata": {
        "id": "EuD8on2HT08i"
      },
      "source": [
        "# random\n",
        "import random\n",
        "# math\n",
        "import math\n",
        "# sort\n",
        "import operator\n",
        "# clean dataset\n",
        "import re\n",
        "#read csv\n",
        "import pandas as pd\n",
        "# numpy\n",
        "import numpy as np\n",
        "\n",
        "# read csv file\n",
        "import csv\n",
        "# encode classes\n",
        "from sklearn.preprocessing import LabelEncoder\n",
        "# encode the resumes\n",
        "from sklearn.feature_extraction.text import TfidfVectorizer\n",
        "\n",
        "# train and split the dataset\n",
        "from sklearn.model_selection import train_test_split\n",
        "\n",
        "from sklearn.neighbors import KNeighborsClassifier\n",
        "\n",
        "from sklearn import svm\n",
        "\n",
        "from sklearn.linear_model import LogisticRegression\n",
        "\n",
        "from sklearn import tree\n",
        "\n",
        "from sklearn.model_selection import KFold\n",
        "\n"
      ],
      "execution_count": null,
      "outputs": []
    },
    {
      "cell_type": "code",
      "metadata": {
        "id": "zXz-_y5vT9QU"
      },
      "source": [
        "class Utils:\n",
        "\n",
        "  def read_csv(filename):\n",
        "    \"\"\"Reads a given dataset, in our example resume_dataset.csv.\n",
        "\n",
        "    Args:\n",
        "      filename: a string, the name of the input file.\n",
        "\n",
        "    Returns:\n",
        "      A pair (classes, resumes) of lists:\n",
        "      - classes is a list of N class or category (text): each class represent a particular resume domain\n",
        "        N is the number of resumes (eg. lines).\n",
        "      - resumes is a list of N resumes (text): each resume represent a cv.\n",
        "    \"\"\"\n",
        "\n",
        "    classes = []\n",
        "    resumes = []\n",
        "\n",
        "    with open(filename) as csv_file:\n",
        "      csv_reader = csv.reader(csv_file, delimiter=',')\n",
        "      line_count = 0\n",
        "      for row in csv_reader:\n",
        "          if (line_count != 0 and row != None):\n",
        "              # Fill class list\n",
        "              classes.append(row[0])\n",
        "              # Fill resume list\n",
        "              resumes.append(row[1])\n",
        "          line_count += 1\n",
        "\n",
        "    return (classes, resumes)\n",
        "\n",
        "\n",
        "  def count_classes(classes):\n",
        "    \"\"\"Count the number of occurence of each class\n",
        "\n",
        "      Args:\n",
        "        classes: a list of categories read from a dataset\n",
        "      Returns:\n",
        "        class_dict: a dictionary (classes, count)\n",
        "        this dictionary gives the occurence number of each class \n",
        "    \"\"\"\n",
        "\n",
        "    class_dict = {}\n",
        "    for cl in classes:\n",
        "      if (cl not in class_dict):\n",
        "        class_dict[cl] = 1\n",
        "      else:\n",
        "        class_dict[cl] += 1\n",
        "    \n",
        "    class_dict = sorted(class_dict.items(), key=operator.itemgetter(1), reverse=True)\n",
        "    return class_dict\n"
      ],
      "execution_count": null,
      "outputs": []
    },
    {
      "cell_type": "code",
      "metadata": {
        "id": "V_dbFpaST-Ib"
      },
      "source": [
        "(classes, resumes) = Utils.read_csv('processed_dataset.csv')"
      ],
      "execution_count": null,
      "outputs": []
    },
    {
      "cell_type": "code",
      "metadata": {
        "colab": {
          "base_uri": "https://localhost:8080/"
        },
        "id": "ib1FdKoiUOXq",
        "outputId": "c82f611f-a223-4e2f-ceaa-8d78fac30e80"
      },
      "source": [
        "Utils.count_classes(classes)"
      ],
      "execution_count": null,
      "outputs": [
        {
          "output_type": "execute_result",
          "data": {
            "text/plain": [
              "[('Engineering', 121),\n",
              " ('Information Technology', 104),\n",
              " ('Education', 102),\n",
              " ('Health & Fitness', 77),\n",
              " ('Managment', 74),\n",
              " ('Accountant', 67),\n",
              " ('Finance', 66),\n",
              " ('Advocate', 61),\n",
              " ('Sales', 61),\n",
              " ('Digital Media', 54),\n",
              " ('Designing', 51),\n",
              " ('Banking', 48),\n",
              " ('Business Development', 44),\n",
              " ('Arts', 43),\n",
              " ('HR', 41),\n",
              " ('Building & Construction', 29),\n",
              " ('Automobile', 27),\n",
              " ('Consultant', 26),\n",
              " ('BPO', 25),\n",
              " ('Agricultural', 24),\n",
              " ('Food & Beverages', 22),\n",
              " ('Apparel', 14),\n",
              " ('Public Relations', 13),\n",
              " ('Aviation', 13),\n",
              " ('Architects', 12)]"
            ]
          },
          "metadata": {
            "tags": []
          },
          "execution_count": 222
        }
      ]
    },
    {
      "cell_type": "code",
      "metadata": {
        "id": "vfw02DMdZD9_"
      },
      "source": [
        "def cleanText(text_list):\n",
        "  \"\"\"Clean the given text_list(resumes)\n",
        "      Loop all over the given list and clean each resume.\n",
        "      Apply regression expressions to match each pattern to replace or to remove\n",
        "    \n",
        "  Args:\n",
        "    text_list: a list of text elements that represents each resume\n",
        "  Returns:\n",
        "    list: A cleaned version of text_list\n",
        "\n",
        "  \"\"\"\n",
        "  list = []\n",
        "  apos_dict={\"'s\":\" is\",\"n't\":\" not\",\"'m\":\" am\",\"'ll\":\" will\", # apostrophs dictionary\n",
        "           \"'d\":\" would\",\"'ve\":\" have\",\"'re\":\" are\"} \n",
        "\n",
        "\n",
        "  for text in text_list:\n",
        "    text = text.replace('\\\\n', ' ') # remove line return\n",
        "    text = text.lower() # to lowercase   \n",
        "\n",
        "    for key,value in apos_dict.items(): # replace words with apostrophs with their synonyms\n",
        "      if key in text: \n",
        "          text=text.replace(key,value)\n",
        "\n",
        "    text = re.sub('[0-9_]', '', text) # remove numbers\n",
        "    text = re.sub(r\"\\b[a-zA-Z]\\b\", \"\", text) # numbers single chars\n",
        "    text = re.sub(r\"\\b[a-zA-Z][a-zA-Z]\\b\", \"\", text) # numbers double chars   \n",
        "    text = re.sub(r'\\bx\\w+', '', text) # word starting with x\"\"\"\n",
        "    text = re.sub('http\\S+\\s*', ' ', text)  # remove URLs\n",
        "    text = re.sub('RT|cc', ' ', text)  # remove RT and cc\n",
        "    text = re.sub('#\\S+', '', text)  # remove hashtags\n",
        "    text = re.sub('@\\S+', '  ', text)  # remove mentions \n",
        "    text = re.sub('[%s]' % re.escape(\"\"\"!\"#$%&'()*+,-./:;<=>?@[\\]^_`{|}~\"\"\"), ' ', text)  # remove punctuations\n",
        "    text = re.sub(r'[^\\x00-\\x7f]',r' ', text) \n",
        "    text = re.sub('\\s+', ' ', text)  # remove extra whitespace\n",
        "    list.append(text)\n",
        "\n",
        "  return list\n"
      ],
      "execution_count": null,
      "outputs": []
    },
    {
      "cell_type": "code",
      "metadata": {
        "colab": {
          "base_uri": "https://localhost:8080/"
        },
        "id": "JsoAp4_fZMy0",
        "outputId": "c5428cc6-a68e-4ff5-ecf7-808030ce5bb9"
      },
      "source": [
        "# Clean the dataset\n",
        "print(resumes[0])\n",
        "clean_resume = cleanText(resumes)\n",
        "print (clean_resume[0])\n"
      ],
      "execution_count": null,
      "outputs": [
        {
          "output_type": "stream",
          "text": [
            "b'John H. Smith, P.H.R.\\n800-991-5187 | PO Box 1673 | Callahan, FL 32011 | info@greatresumesfast.com\\n\\nApproachable innovator with a passion for Human Resources.\\n\\nSENIOR HUMAN RESOURCES PROFESSIONAL\\nPersonable, analytical, flexible Senior HR Professional with multifaceted expertise. Seasoned Benefits Administrator with\\nextensive experience working with highly paid professionals in client-relationship-based settings. Dynamic team leader\\ncapable of analyzing alternatives and identifying tough choices while communicating the total value of benefit and\\ncompensation packages to senior level executives and employees.\\n\\nCORE COMPETENCIES\\nBenefits Administration \\xe2\\x80\\x93 Customer Service \\xe2\\x80\\x93 Cost Control \\xe2\\x80\\x93 Recruiting \\xe2\\x80\\x93 Acquisition Management \\xe2\\x80\\x93 Compliance Reporting\\nRetention \\xe2\\x80\\x93 Professional Services \\xe2\\x80\\x93 Domestic & International Benefits \\xe2\\x80\\x93 Collaboration \\xe2\\x80\\x93 Adaptability \\xe2\\x80\\x93 Change Management\\nDefined Contribution Plans \\xe2\\x80\\x93 Auditing \\xe2\\x80\\x93 Negotiation \\xe2\\x80\\x93 Corporate HR Policies \\xe2\\x80\\x93 Full Lifecycle Training \\xe2\\x80\\x93 401(k) \\xe2\\x80\\x93 Form 5500\\nConfidential Files \\xe2\\x80\\x93 EEO-1 \\xe2\\x80\\x93 AAP \\xe2\\x80\\x93 FMLA \\xe2\\x80\\x93 STD \\xe2\\x80\\x93 LTD \\xe2\\x80\\x93 H1-B Visa \\xe2\\x80\\x93 Vets 100 \\xe2\\x80\\x93 EAP \\xe2\\x80\\x93 Processing Payroll\\n\\nHR TECHNOLOGY\\n\\nHRIS Data Management & Auditing \\xe2\\x80\\x93 Ultipro Back Office \\xe2\\x80\\x93 Ultipro Web Connect\\nDeltek Costpoint \\xe2\\x80\\x93 Deltek GCS Premiere \\xe2\\x80\\x93 Cognos \\xe2\\x80\\x93 ADP\\n\\nProfessional Experience\\nHUMAN SERVICES, INC. \\xe2\\x80\\x93 Tampa, FL\\n\\n2010\\xe2\\x80\\x93Present\\n\\nProviding institutional behavioral health and medical management contracting services | 2,500 employees\\n\\nBenefits Manager\\nManage and administer a robust $13M health and welfare program; administer benefits programs for two smaller\\nminority business enterprise clients. Deliver excellence in client services, leveraging interpersonal skills to establish\\nrapport with team members. Perform cost analysis, gather claims data, coordinate enrollment and more for a large selffunded medical plan plus two smaller fully-insured plans. Analyze data and projections to create forecasts in narrative\\nand graph format; clearly and succinctly communicate trends to senior management in meetings. Directly supervise\\nstaff of 3: HR Admin, plus two Human Resource specialists.\\n\\xef\\x81\\xb3 Lead Healthcare Reform change management process, analyzing changes, developing strategic plans, and\\n\\ntimeline for crucial decisions ahead of 2014 deadlines. Communicate early changes in dependent coverage,\\npreventive care, and lifetime maximum benefits to employees.\\n\\n\\xef\\x81\\xb3 Identified, researched, and implemented HSA (Healthcare Savings Account) health insurance option for high-\\n\\ndeductible health insurance plan to provide tax-sheltered benefits for physicians and other high-income, highprofile professionals.\\n\\n\\xef\\x81\\xb3 Saved $30K annually by restructuring the open enrollment strategy, leveraging existing human capital and HR\\n\\nbusiness partners to achieve better communication at lower cost.\\n\\n\\xef\\x81\\xb3 Quickly establish rapport with employees; balance client-relationship needs with organizational goals, cost\\n\\ncontrols, and compliance requirements to create a positive work environment.\\n\\n\\xef\\x81\\xb3 Maximize employee recruiting and retention by implementing competitive benefits packages and clearly\\n\\ncommunicating their value to team members.\\n\\n\\xef\\x81\\xb3 Reduced costs $20K per year by collaborating closely with legal department to create an in-house total comp\\n\\nstatement including implications for taxes and social security; produced a better-quality analysis at lower costs.\\n\\n\\x0cJohn H. Smith, P.H.R. \\xe2\\x80\\x93 PAGE 2\\n\\n800-991-5187|info@greatresumesfast.com\\n\\nApproachable innovator with a passion for Human Resources.\\nHUMAN MANAGEMENT INC. \\xe2\\x80\\x93 Atlanta, GA\\n\\n2008\\xe2\\x80\\x932010\\n\\nNonprofit government consulting firm | 1,200 domestic and international employees\\n\\nSenior Human Resources Generalist\\nPerformed diverse Human Resources functions: administered benefits, led special projects, updated policies,\\ncollaborated on EEO-1, Vets 100, and Affirmative Action Plan (AAP) reporting. Revamped orientation and training\\nprograms for newly hired employees to include comprehensive information delivered in more-personal formats:\\nteleconferences, small group meetings, tours, and one-on-one conversations, with follow-up phone calls. Supervised HR\\nAssistant and up to 3 temporary Human Resource specialists handling high volume of work during peak periods such as\\nopen enrollment and company merger.\\n\\xef\\x81\\xb3 Led change management process that seamlessly integrated benefits, compensation, retirement plans, and\\n\\nlogistics for newly acquired company with 60+ employees; prepared all-encompassing reports on total\\ncompensation plans.\\n\\n\\xef\\x81\\xb3 Developed webinars and personal meetings to communicate value of benefits to employees despite reductions\\n\\nduring an economic recession; maintained employee retention and job satisfaction rankings despite cutbacks.\\n\\n\\xef\\x81\\xb3 Reduced overall benefit costs 10% including a decrease in STD benefits from 100% to 75% of base\\n\\ncompensation without significant increase in employee turnover.\\n\\n\\xef\\x81\\xb3 Researched and procured benefits for government contractors traveling to hazardous areas including Kidnap &\\n\\nRansom (K&R), increased life insurance, and travel insurance.\\n\\n\\xef\\x81\\xb3 Identified and implemented medical and dental benefit plans to ensure comparable compensation for\\n\\ninternational employees worldwide.\\n\\n\\xef\\x81\\xb3 Managed diverse retirement plans including defined contribution 403(b), 401(a), and executive 457(b) plans.\\n\\nABC CORPORATION \\xe2\\x80\\x93 New York, NY\\n\\n2007\\xe2\\x80\\x932008\\n\\nEngineering and Construction consulting | 500 international and domestic employees\\nSenior Human Resources Generalist\\nACME, INC. \\xe2\\x80\\x93 Washington, D.C.\\n\\n2004\\xe2\\x80\\x932006\\n\\nProfessional services consulting firm | 300 employees\\nHR Generalist / Benefits Specialist\\n\\nHUMAN RESOURCE CORPORATION \\xe2\\x80\\x93 Tampa, FL\\nIT & environmental management consulting firm | 300 employees\\nHuman Resources Assistant\\n\\nEducation, Certification, & Affiliation\\nBachelor of Science in Psychology, 2002\\nCOMMUNITY COLLEGE\\nProfessional in Human Resources (PHR) Certificate, 2010\\nEmployee Benefit Specialist (CEBS), Certification Pending\\nMember SHRM \\xe2\\x80\\x93 Society for Human Resource Management\\n\\n2002\\xe2\\x80\\x932004'\n",
            " john smith box callahan info approachable innovator with passion for human resources senior human resources professional personable analytical flexible senior professional with multifaceted expertise seasoned benefits administrator with extensive experience working with highly paid professionals client relationship based settings dynamic team leader capable analyzing alternatives and identifying tough choices while communicating the total value benefit and compensation packages senior level executives and employees core competencies benefits administration customer service cost control recruiting acquisition management compliance reporting retention professional services domestic international benefits collaboration adaptability change management defined contribution plans auditing negotiation corporate policies full lifecycle training form confidential files eeo aap fmla std ltd visa vets eap processing payroll technology hris data management auditing ultipro back office ultipro web connect deltek costpoint deltek gcs premiere cognos adp professional experience human services inc tampa providing institutional behavioral health and medical management contracting services employees benefits manager manage and administer robust health and welfare program administer benefits programs for two smaller minority business enterprise clients deliver excellence client services leveraging interpersonal skills establish rapport with team members perform cost analysis gather claims data coordinate enrollment and more for large selffunded medical plan plus two smaller fully insured plans analyze data and projections create forecasts narrative and graph format clearly and su inctly communicate trends senior management meetings directly supervise staff admin plus two human resource specialists lead healthcare reform change management process analyzing changes developing strategic plans and timeline for crucial decisions ahead deadlines communicate early changes dependent coverage preventive care and lifetime maximum benefits employees identified researched and implemented hsa healthcare savings a ount health insurance option for high deductible health insurance plan provide tax sheltered benefits for physicians and other high income highprofile professionals saved annually restructuring the open enrollment strategy leveraging existing human capital and business partners achieve better communication lower cost quickly establish rapport with employees balance client relationship needs with organizational goals cost controls and compliance requirements create positive work environment maximize employee recruiting and retention implementing competitive benefits packages and clearly communicating their value team members reduced costs per year collaborating closely with legal department create house total comp statement including implications for taxes and social security produced better quality analysis lower costs smith page info approachable innovator with passion for human resources human management inc atlanta nonprofit government consulting firm domestic and international employees senior human resources generalist performed diverse human resources functions administered benefits led special projects updated policies collaborated eeo vets and affirmative action plan aap reporting revamped orientation and training programs for newly hired employees include comprehensive information delivered more personal formats teleconferences small group meetings tours and one one conversations with follow phone calls supervised assistant and temporary human resource specialists handling high volume work during peak periods such open enrollment and company merger led change management process that seamlessly integrated benefits compensation retirement plans and logistics for newly acquired company with employees prepared all encompassing reports total compensation plans developed webinars and personal meetings communicate value benefits employees despite reductions during economic recession maintained employee retention and job satisfaction rankings despite cutbacks reduced overall benefit costs including decrease std benefits from base compensation without significant increase employee turnover researched and procured benefits for government contractors traveling hazardous areas including kidnap ransom increased life insurance and travel insurance identified and implemented medical and dental benefit plans ensure comparable compensation for international employees worldwide managed diverse retirement plans including defined contribution and executive plans abc corporation new york engineering and construction consulting international and domestic employees senior human resources generalist acme inc washington professional services consulting firm employees generalist benefits specialist human resource corporation tampa environmental management consulting firm employees human resources assistant education certification affiliation bachelor science psychology community college professional human resources phr certificate employee benefit specialist cebs certification pending member shrm society for human resource management \n"
          ],
          "name": "stdout"
        }
      ]
    },
    {
      "cell_type": "code",
      "metadata": {
        "colab": {
          "base_uri": "https://localhost:8080/"
        },
        "id": "1EQPiEL8rSaE",
        "outputId": "a8ca1838-0daf-498f-82d8-e44dad47fb5f"
      },
      "source": [
        "\n",
        "# encode categories into numbers\n",
        "le = LabelEncoder()\n",
        "classes = le.fit_transform(classes)\n",
        "\n",
        "# calculate frequencies tfidf\n",
        "word_vectorizer = TfidfVectorizer(sublinear_tf=True, max_features=1000)\n",
        "\n",
        "features = word_vectorizer.fit_transform(resumes)\n",
        "\n",
        "X_train,X_test,y_train,y_test = train_test_split(features,classes,random_state=0, test_size=0.4)\n",
        "\n",
        "print('Encodage faite ! bon')\n"
      ],
      "execution_count": null,
      "outputs": [
        {
          "output_type": "stream",
          "text": [
            "Encodage faite ! bon\n"
          ],
          "name": "stdout"
        }
      ]
    },
    {
      "cell_type": "code",
      "metadata": {
        "id": "o0mSttkVOkDH"
      },
      "source": [
        "def sampled_range(mini, maxi, num):\n",
        "  \"\"\"Computes the Euclidian distance between data1 and data2.\n",
        "  \n",
        "  Args:\n",
        "    data1: a list of numbers: the coordinates of the first vector.\n",
        "    data2: a list of numbers: the coordinates of the second vector (same length as data1).\n",
        "\n",
        "  Returns:\n",
        "    The Euclidian distance: sqrt(sum((data1[i]-data2[i])^2)).\n",
        "  \"\"\"\n",
        "  if not num:\n",
        "      return []\n",
        "  lmini = math.log(mini)\n",
        "  lmaxi = math.log(maxi)\n",
        "  ldelta = (lmaxi - lmini) / (num - 1)\n",
        "  out = [x for x in set([int(math.exp(lmini + i * ldelta)) for i in range(num)])]\n",
        "  out.sort()\n",
        "  return out"
      ],
      "execution_count": null,
      "outputs": []
    },
    {
      "cell_type": "code",
      "metadata": {
        "id": "78l0-3KMOlVk"
      },
      "source": [
        "def find_best_k(train_x, train_y, valid_x, valid_y):\n",
        "  \"\"\"This function is used in the cross-validation \n",
        "  in order to find the best K for the given classifier for KNeighborsClassifier.\n",
        "  It uses the sampled_range function to generate a range of potential values of K to be tested\n",
        "\n",
        "  Args:\n",
        "    train_x: a list of resumes.\n",
        "    train_y: a list of classes(categories).\n",
        "    valid_x: an other list of resumes (1/n_folds).\n",
        "    valid_y: an other list of classes(categories) (1/n_folds).\n",
        "\n",
        "  Returns:\n",
        "    A pair (bestK, bestP):\n",
        "    - bestK is an integer which represent the best calculated k for this function\n",
        "    - bestP is the best precision for bestK\n",
        "  \"\"\"\n",
        "\n",
        "  SR = sampled_range(1,50,20)\n",
        "  bestP = 0\n",
        "  bestK = 0\n",
        "  for r in SR:\n",
        "    clf = KNeighborsClassifier(n_neighbors=r)\n",
        "    clf.fit(train_x, train_y)\n",
        "    prediction = clf.predict(valid_x)\n",
        "\n",
        "    if(clf.score(valid_x, valid_y) > bestP):\n",
        "      bestP = clf.score(valid_x, valid_y)\n",
        "      bestK = r\n",
        "  return (bestK, bestP)\n"
      ],
      "execution_count": null,
      "outputs": []
    },
    {
      "cell_type": "code",
      "metadata": {
        "id": "BMXWSiTQsFWP"
      },
      "source": [
        "def find_best_c(train_x, train_y, valid_x, valid_y):\n",
        "  \"\"\"This function is used in the cross-validation \n",
        "  in order to find the best K for the given classifier for SVM.\n",
        "  It uses a range of potential values of C to be tested\n",
        "\n",
        "  Args:\n",
        "    train_x: a list of resumes.\n",
        "    train_y: a list of classes(categories).\n",
        "    valid_x: an other list of resumes (1/n_folds).\n",
        "    valid_y: an other list of classes(categories) (1/n_folds).\n",
        "\n",
        "  Returns:\n",
        "    A pair (bestC, bestP):\n",
        "    - bestC is an integer which represent the best calculated c for this function\n",
        "    - bestP is the best precision for bestK\n",
        "  \"\"\"\n",
        "  # exponential growing sequence \n",
        "  SR = np.logspace(-3, 3, 10)\n",
        "\n",
        "  bestP = 0\n",
        "  bestC = 0\n",
        "  for r in SR:\n",
        "    clf = svm.SVC(C=r)\n",
        "    clf.fit(train_x, train_y)\n",
        "    prediction = clf.predict(valid_x)\n",
        "\n",
        "    if(clf.score(valid_x, valid_y) > bestP):\n",
        "      bestP = clf.score(valid_x, valid_y)\n",
        "      bestC = r\n",
        "  return (bestC, bestP)"
      ],
      "execution_count": null,
      "outputs": []
    },
    {
      "cell_type": "code",
      "metadata": {
        "id": "OghIDz1XOrHr"
      },
      "source": [
        "def cross_validation(train_x, train_y, find_best):\n",
        "  \"\"\"Cross-validation to evaluate the given parameter function.\n",
        "\n",
        "  Args:\n",
        "    train_x: a list of resumes.\n",
        "    train_y: a list of classes(categories).\n",
        "    find_best: a function taking four arguments (train_x, train_y, valid_x, valid_y)\n",
        "\n",
        "  Returns:\n",
        "    A pair (BV, BP):\n",
        "    - BV is the best calculated parameter acrros all folds.\n",
        "    - BP is the best precision that BV gives.\n",
        "\n",
        "  \"\"\"\n",
        "  kf = KFold()\n",
        "  kt = []\n",
        "  pt = []\n",
        "  k_dict = {}\n",
        "  for train, test in kf.split(train_x):\n",
        "\n",
        "    t_x = train_x[train]\n",
        "    v_x = train_x[test]\n",
        "    \n",
        "    t_y = train_y[train]\n",
        "    v_y = train_y[test]\n",
        "\n",
        "    (k, p) = find_best(t_x, t_y, v_x, v_y)\n",
        "    kt.append(k)\n",
        "    pt.append(p)\n",
        "  \n",
        "  d = {}\n",
        "  cnd = {}\n",
        "    \n",
        "  for i in range(len(kt)):\n",
        "      if (kt[i] not in d):\n",
        "        d[kt[i]] = pt[i]\n",
        "        cnd[kt[i]] = 1\n",
        "      else:\n",
        "        d[kt[i]] += pt[i]\n",
        "        cnd[kt[i]] += 1\n",
        "\n",
        "  for k in d:\n",
        "      d[k] = d[k] / cnd[k]\n",
        "  \n",
        "  mx = max(d, key=d.get)\n",
        "  return (mx, d[mx]) \n",
        "\n"
      ],
      "execution_count": null,
      "outputs": []
    },
    {
      "cell_type": "code",
      "metadata": {
        "id": "opWxHHfhs0dY",
        "colab": {
          "base_uri": "https://localhost:8080/"
        },
        "outputId": "901c8fd9-a7c6-4ea8-f99d-921c7430d262"
      },
      "source": [
        "print('Best k')\n",
        "cross_validation(X_train, y_train, find_best_k)"
      ],
      "execution_count": null,
      "outputs": [
        {
          "output_type": "stream",
          "text": [
            "Best k\n"
          ],
          "name": "stdout"
        },
        {
          "output_type": "execute_result",
          "data": {
            "text/plain": [
              "(21, 0.5821917808219178)"
            ]
          },
          "metadata": {
            "tags": []
          },
          "execution_count": 16
        }
      ]
    },
    {
      "cell_type": "code",
      "metadata": {
        "colab": {
          "base_uri": "https://localhost:8080/"
        },
        "id": "0-0jR_cms1KS",
        "outputId": "ed926b7c-1a9f-484c-8f35-e6b6314f8f78"
      },
      "source": [
        "print('Best c')\n",
        "cross_validation(X_train, y_train, find_best_c)"
      ],
      "execution_count": null,
      "outputs": [
        {
          "output_type": "stream",
          "text": [
            "Best c\n"
          ],
          "name": "stdout"
        },
        {
          "output_type": "execute_result",
          "data": {
            "text/plain": [
              "(10.0, 0.589041095890411)"
            ]
          },
          "metadata": {
            "tags": []
          },
          "execution_count": 17
        }
      ]
    },
    {
      "cell_type": "code",
      "metadata": {
        "colab": {
          "base_uri": "https://localhost:8080/"
        },
        "id": "PU_rD9Liu-jL",
        "outputId": "89d794e9-426a-4c13-e057-c2a5b2378c4a"
      },
      "source": [
        "classifier = KNeighborsClassifier(n_neighbors=21)\n",
        "classifier.fit(X_train, y_train)\n",
        "prediction = classifier.predict(X_test)\n",
        "print('Précision d\\'entrainement de l\\'algorithme KNeighbors : {:.2f}'.format(classifier.score(X_train, y_train)))\n",
        "print('Précision de test de l\\'algorithme KNeighbors  : {:.2f}'.format(classifier.score(X_test, y_test)))\n"
      ],
      "execution_count": null,
      "outputs": [
        {
          "output_type": "stream",
          "text": [
            "Précision d'entrainement de l'algorithme KNeighbors : 0.54\n",
            "Précision de test de l'algorithme KNeighbors  : 0.43\n"
          ],
          "name": "stdout"
        }
      ]
    },
    {
      "cell_type": "code",
      "metadata": {
        "colab": {
          "base_uri": "https://localhost:8080/"
        },
        "id": "567vsWsHqdFM",
        "outputId": "2a4b01b7-079b-488c-dae8-c468b04d2444"
      },
      "source": [
        "classifier = svm.SVC(C=10)\n",
        "classifier.fit(X_train, y_train)\n",
        "prediction = classifier.predict(X_test)\n",
        "print('Précision d\\'entrainement de l\\'algorithm SVM  : {:.2f}'.format(classifier.score(X_train, y_train)))\n",
        "print('Précision de test de SVM : {:.2f}'.format(classifier.score(X_test, y_test)))\n",
        "\n"
      ],
      "execution_count": null,
      "outputs": [
        {
          "output_type": "stream",
          "text": [
            "Précision d'entrainement de l'algorithm SVM  : 0.98\n",
            "Précision de test de SVM : 0.59\n"
          ],
          "name": "stdout"
        }
      ]
    },
    {
      "cell_type": "code",
      "metadata": {
        "colab": {
          "base_uri": "https://localhost:8080/"
        },
        "id": "tiVId1XtNDr_",
        "outputId": "47d2819d-b31f-44f6-8706-1781d5397f9c"
      },
      "source": [
        "classifier = LogisticRegression()\n",
        "classifier.fit(X_train, y_train)\n",
        "prediction = classifier.predict(X_test)\n",
        "print('Précision d\\'entrainement de l\\'algorithm regression logistique    : {:.2f}'.format(classifier.score(X_train, y_train)))\n",
        "print('Précision de test de l\\'algorithm regression logistique  : {:.2f}'.format(classifier.score(X_test, y_test)))\n",
        "\n"
      ],
      "execution_count": null,
      "outputs": [
        {
          "output_type": "stream",
          "text": [
            "Précision d'entrainement de l'algorithm regression logistique    : 0.79\n",
            "Précision de test de l'algorithm regression logistique  : 0.56\n"
          ],
          "name": "stdout"
        }
      ]
    },
    {
      "cell_type": "code",
      "metadata": {
        "colab": {
          "base_uri": "https://localhost:8080/"
        },
        "id": "mqBFKJ2bQS7d",
        "outputId": "bb8bedf1-9226-4d88-d344-cbc1319b6898"
      },
      "source": [
        "classifier = tree.DecisionTreeClassifier()\n",
        "classifier.fit(X_train, y_train)\n",
        "prediction = classifier.predict(X_test)\n",
        "print('Précision d\\'entrainement de l\\'algorithm arbre de decision: {:.2f}'.format(classifier.score(X_train, y_train)))\n",
        "print('Précision de test de l\\'algorithm arbre de decision : {:.2f}'.format(classifier.score(X_test, y_test)))\n",
        "\n"
      ],
      "execution_count": null,
      "outputs": [
        {
          "output_type": "stream",
          "text": [
            "Précision d'entrainement de l'algorithm arbre de decision: 0.98\n",
            "Précision de test de l'algorithm arbre de decision : 0.44\n"
          ],
          "name": "stdout"
        }
      ]
    }
  ]
}